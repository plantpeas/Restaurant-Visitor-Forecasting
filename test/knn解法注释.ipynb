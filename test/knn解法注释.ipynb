{
 "cells": [
  {
   "cell_type": "markdown",
   "metadata": {},
   "source": [
    "# knn解法注释"
   ]
  },
  {
   "cell_type": "markdown",
   "metadata": {},
   "source": [
    "## 一、把需要的库导入，设置图片外观"
   ]
  },
  {
   "cell_type": "code",
   "execution_count": 111,
   "metadata": {},
   "outputs": [],
   "source": [
    "import glob, re\n",
    "import numpy as np\n",
    "import pandas as pd\n",
    "from sklearn import * #有星号，以后就可以不写模块的名称了\n",
    "from datetime import datetime\n",
    "import matplotlib.pyplot as plt\n",
    "\n",
    "#外观设置\n",
    "plt.rcParams['font.sans-serif']=['SimHei'] #用来正常显示中文标签\n",
    "plt.style.use('ggplot')#可以作出ggplot风格的图片\n",
    "\n"
   ]
  },
  {
   "cell_type": "markdown",
   "metadata": {},
   "source": [
    "## 二、导入数据，检查数据"
   ]
  },
  {
   "cell_type": "code",
   "execution_count": 112,
   "metadata": {},
   "outputs": [
    {
     "name": "stdout",
     "output_type": "stream",
     "text": [
      "                air_store_id  visit_date  visitors  dow  year  month  \\\n",
      "0       air_ba937bf13d40fb24  2016-01-13        25    2  2016      1   \n",
      "...                      ...         ...       ...  ...   ...    ...   \n",
      "226897  air_b8d9e1624baaadc2  2016-12-04        16    6  2016     12   \n",
      "\n",
      "        day_of_week  holiday_flg  min_visitors  mean_visitors  \\\n",
      "0                 6            0           7.0      23.843750   \n",
      "...             ...          ...           ...            ...   \n",
      "226897            3            0           2.0      10.333333   \n",
      "\n",
      "        median_visitors  max_visitors  count_observations  air_genre_name  \\\n",
      "0                  25.0          57.0                64.0             4.0   \n",
      "...                 ...           ...                 ...             ...   \n",
      "226897              8.0          36.0                36.0             7.0   \n",
      "\n",
      "        air_area_name   latitude   longitude  air_genre_name0  air_area_name0  \\\n",
      "0                62.0  35.658068  139.751599              4.0             7.0   \n",
      "...               ...        ...         ...              ...             ...   \n",
      "226897           90.0  35.602201  139.697689              7.0             7.0   \n",
      "\n",
      "        air_genre_name1  air_area_name1  air_genre_name2  air_area_name2  \\\n",
      "0                   7.0             6.0              0.0            26.0   \n",
      "...                 ...             ...              ...             ...   \n",
      "226897              0.0             6.0              0.0            52.0   \n",
      "\n",
      "        air_genre_name3  air_area_name3  air_genre_name4  air_area_name4  \\\n",
      "0                   0.0             6.0              0.0            78.0   \n",
      "...                 ...             ...              ...             ...   \n",
      "226897              0.0             6.0              0.0            39.0   \n",
      "\n",
      "        air_genre_name5  air_area_name5  air_genre_name6  air_area_name6  \\\n",
      "0                   0.0             0.0              0.0             0.0   \n",
      "...                 ...             ...              ...             ...   \n",
      "226897              0.0             0.0              0.0             0.0   \n",
      "\n",
      "        air_genre_name7  air_area_name7  air_genre_name8  air_area_name8  \\\n",
      "0                   0.0             0.0              0.0             0.0   \n",
      "...                 ...             ...              ...             ...   \n",
      "226897              0.0             0.0              0.0             0.0   \n",
      "\n",
      "        air_genre_name9  air_area_name9  rs1_x  rv1_x  rs2_x  rv2_x  rs1_y  \\\n",
      "0                   0.0             0.0   -1.0   -1.0   -1.0   -1.0   -1.0   \n",
      "...                 ...             ...    ...    ...    ...    ...    ...   \n",
      "226897              0.0             0.0   -1.0   -1.0   -1.0   -1.0   -1.0   \n",
      "\n",
      "        rv1_y  rs2_y  rv2_y                               id  \\\n",
      "0        -1.0   -1.0   -1.0  air_ba937bf13d40fb24_2016-01-13   \n",
      "...       ...    ...    ...                              ...   \n",
      "226897   -1.0   -1.0   -1.0  air_b8d9e1624baaadc2_2016-12-04   \n",
      "\n",
      "        total_reserv_sum  total_reserv_mean  total_reserv_dt_diff_mean  \\\n",
      "0                   -1.0               -1.0                       -1.0   \n",
      "...                  ...                ...                        ...   \n",
      "226897              -1.0               -1.0                       -1.0   \n",
      "\n",
      "        date_int  var_max_lat  var_max_long  lon_plus_lat  air_store_id2  \n",
      "0       20160113     8.362564      4.521799    175.409667            603  \n",
      "...          ...          ...           ...           ...            ...  \n",
      "226897  20161204     8.418431      4.575709    175.299890            600  \n",
      "\n",
      "[226898 rows x 54 columns]\n"
     ]
    }
   ],
   "source": [
    "#先看看数据长什么样\n",
    "#因为这张大表非常长，采取这种方法让所有列全部显示\n",
    "with pd.option_context('display.max_rows', 2, 'display.max_columns', 100):\n",
    "    print(train)"
   ]
  },
  {
   "cell_type": "code",
   "execution_count": 113,
   "metadata": {},
   "outputs": [
    {
     "data": {
      "text/html": [
       "<div>\n",
       "<style scoped>\n",
       "    .dataframe tbody tr th:only-of-type {\n",
       "        vertical-align: middle;\n",
       "    }\n",
       "\n",
       "    .dataframe tbody tr th {\n",
       "        vertical-align: top;\n",
       "    }\n",
       "\n",
       "    .dataframe thead th {\n",
       "        text-align: right;\n",
       "    }\n",
       "</style>\n",
       "<table border=\"1\" class=\"dataframe\">\n",
       "  <thead>\n",
       "    <tr style=\"text-align: right;\">\n",
       "      <th></th>\n",
       "      <th>id</th>\n",
       "      <th>visitors</th>\n",
       "      <th>visit_date</th>\n",
       "      <th>air_store_id</th>\n",
       "      <th>dow</th>\n",
       "      <th>year</th>\n",
       "      <th>month</th>\n",
       "      <th>day_of_week</th>\n",
       "      <th>holiday_flg</th>\n",
       "      <th>min_visitors</th>\n",
       "      <th>...</th>\n",
       "      <th>rs2_y</th>\n",
       "      <th>rv2_y</th>\n",
       "      <th>total_reserv_sum</th>\n",
       "      <th>total_reserv_mean</th>\n",
       "      <th>total_reserv_dt_diff_mean</th>\n",
       "      <th>date_int</th>\n",
       "      <th>var_max_lat</th>\n",
       "      <th>var_max_long</th>\n",
       "      <th>lon_plus_lat</th>\n",
       "      <th>air_store_id2</th>\n",
       "    </tr>\n",
       "  </thead>\n",
       "  <tbody>\n",
       "    <tr>\n",
       "      <th>0</th>\n",
       "      <td>air_00a91d42b08b08d9_2017-04-23</td>\n",
       "      <td>3.598508</td>\n",
       "      <td>2017-04-23</td>\n",
       "      <td>air_00a91d42b08b08d9</td>\n",
       "      <td>6</td>\n",
       "      <td>2017</td>\n",
       "      <td>4</td>\n",
       "      <td>3</td>\n",
       "      <td>0</td>\n",
       "      <td>2.0</td>\n",
       "      <td>...</td>\n",
       "      <td>-1.0</td>\n",
       "      <td>-1.0</td>\n",
       "      <td>-1.0</td>\n",
       "      <td>-1.0</td>\n",
       "      <td>-1.0</td>\n",
       "      <td>20170423</td>\n",
       "      <td>8.326629</td>\n",
       "      <td>4.519803</td>\n",
       "      <td>175.447598</td>\n",
       "      <td>0</td>\n",
       "    </tr>\n",
       "    <tr>\n",
       "      <th>1</th>\n",
       "      <td>air_00a91d42b08b08d9_2017-04-24</td>\n",
       "      <td>27.341293</td>\n",
       "      <td>2017-04-24</td>\n",
       "      <td>air_00a91d42b08b08d9</td>\n",
       "      <td>0</td>\n",
       "      <td>2017</td>\n",
       "      <td>4</td>\n",
       "      <td>1</td>\n",
       "      <td>0</td>\n",
       "      <td>1.0</td>\n",
       "      <td>...</td>\n",
       "      <td>-1.0</td>\n",
       "      <td>-1.0</td>\n",
       "      <td>-1.0</td>\n",
       "      <td>-1.0</td>\n",
       "      <td>-1.0</td>\n",
       "      <td>20170424</td>\n",
       "      <td>8.326629</td>\n",
       "      <td>4.519803</td>\n",
       "      <td>175.447598</td>\n",
       "      <td>0</td>\n",
       "    </tr>\n",
       "    <tr>\n",
       "      <th>2</th>\n",
       "      <td>air_00a91d42b08b08d9_2017-04-25</td>\n",
       "      <td>27.341293</td>\n",
       "      <td>2017-04-25</td>\n",
       "      <td>air_00a91d42b08b08d9</td>\n",
       "      <td>1</td>\n",
       "      <td>2017</td>\n",
       "      <td>4</td>\n",
       "      <td>5</td>\n",
       "      <td>0</td>\n",
       "      <td>1.0</td>\n",
       "      <td>...</td>\n",
       "      <td>-1.0</td>\n",
       "      <td>-1.0</td>\n",
       "      <td>-1.0</td>\n",
       "      <td>-1.0</td>\n",
       "      <td>-1.0</td>\n",
       "      <td>20170425</td>\n",
       "      <td>8.326629</td>\n",
       "      <td>4.519803</td>\n",
       "      <td>175.447598</td>\n",
       "      <td>0</td>\n",
       "    </tr>\n",
       "    <tr>\n",
       "      <th>3</th>\n",
       "      <td>air_00a91d42b08b08d9_2017-04-26</td>\n",
       "      <td>30.577498</td>\n",
       "      <td>2017-04-26</td>\n",
       "      <td>air_00a91d42b08b08d9</td>\n",
       "      <td>2</td>\n",
       "      <td>2017</td>\n",
       "      <td>4</td>\n",
       "      <td>6</td>\n",
       "      <td>0</td>\n",
       "      <td>15.0</td>\n",
       "      <td>...</td>\n",
       "      <td>-1.0</td>\n",
       "      <td>-1.0</td>\n",
       "      <td>-1.0</td>\n",
       "      <td>-1.0</td>\n",
       "      <td>-1.0</td>\n",
       "      <td>20170426</td>\n",
       "      <td>8.326629</td>\n",
       "      <td>4.519803</td>\n",
       "      <td>175.447598</td>\n",
       "      <td>0</td>\n",
       "    </tr>\n",
       "    <tr>\n",
       "      <th>4</th>\n",
       "      <td>air_00a91d42b08b08d9_2017-04-27</td>\n",
       "      <td>30.577498</td>\n",
       "      <td>2017-04-27</td>\n",
       "      <td>air_00a91d42b08b08d9</td>\n",
       "      <td>3</td>\n",
       "      <td>2017</td>\n",
       "      <td>4</td>\n",
       "      <td>4</td>\n",
       "      <td>0</td>\n",
       "      <td>15.0</td>\n",
       "      <td>...</td>\n",
       "      <td>-1.0</td>\n",
       "      <td>-1.0</td>\n",
       "      <td>-1.0</td>\n",
       "      <td>-1.0</td>\n",
       "      <td>-1.0</td>\n",
       "      <td>20170427</td>\n",
       "      <td>8.326629</td>\n",
       "      <td>4.519803</td>\n",
       "      <td>175.447598</td>\n",
       "      <td>0</td>\n",
       "    </tr>\n",
       "  </tbody>\n",
       "</table>\n",
       "<p>5 rows × 54 columns</p>\n",
       "</div>"
      ],
      "text/plain": [
       "                                id   visitors  visit_date  \\\n",
       "0  air_00a91d42b08b08d9_2017-04-23   3.598508  2017-04-23   \n",
       "1  air_00a91d42b08b08d9_2017-04-24  27.341293  2017-04-24   \n",
       "2  air_00a91d42b08b08d9_2017-04-25  27.341293  2017-04-25   \n",
       "3  air_00a91d42b08b08d9_2017-04-26  30.577498  2017-04-26   \n",
       "4  air_00a91d42b08b08d9_2017-04-27  30.577498  2017-04-27   \n",
       "\n",
       "           air_store_id  dow  year  month  day_of_week  holiday_flg  \\\n",
       "0  air_00a91d42b08b08d9    6  2017      4            3            0   \n",
       "1  air_00a91d42b08b08d9    0  2017      4            1            0   \n",
       "2  air_00a91d42b08b08d9    1  2017      4            5            0   \n",
       "3  air_00a91d42b08b08d9    2  2017      4            6            0   \n",
       "4  air_00a91d42b08b08d9    3  2017      4            4            0   \n",
       "\n",
       "   min_visitors      ...        rs2_y  rv2_y  total_reserv_sum  \\\n",
       "0           2.0      ...         -1.0   -1.0              -1.0   \n",
       "1           1.0      ...         -1.0   -1.0              -1.0   \n",
       "2           1.0      ...         -1.0   -1.0              -1.0   \n",
       "3          15.0      ...         -1.0   -1.0              -1.0   \n",
       "4          15.0      ...         -1.0   -1.0              -1.0   \n",
       "\n",
       "   total_reserv_mean  total_reserv_dt_diff_mean  date_int  var_max_lat  \\\n",
       "0               -1.0                       -1.0  20170423     8.326629   \n",
       "1               -1.0                       -1.0  20170424     8.326629   \n",
       "2               -1.0                       -1.0  20170425     8.326629   \n",
       "3               -1.0                       -1.0  20170426     8.326629   \n",
       "4               -1.0                       -1.0  20170427     8.326629   \n",
       "\n",
       "   var_max_long  lon_plus_lat  air_store_id2  \n",
       "0      4.519803    175.447598              0  \n",
       "1      4.519803    175.447598              0  \n",
       "2      4.519803    175.447598              0  \n",
       "3      4.519803    175.447598              0  \n",
       "4      4.519803    175.447598              0  \n",
       "\n",
       "[5 rows x 54 columns]"
      ]
     },
     "execution_count": 113,
     "metadata": {},
     "output_type": "execute_result"
    }
   ],
   "source": [
    "#test的区别只是visitors列是空的\n",
    "test.head()"
   ]
  },
  {
   "cell_type": "code",
   "execution_count": 114,
   "metadata": {},
   "outputs": [],
   "source": [
    "#为了后面的内容加载快，只处理10%的数据\n",
    "train = pd.read_csv('../input/train_90%.csv')\n",
    "train1 = pd.read_csv('../input/train_10%.csv')\n",
    "trainAll = pd.read_csv('../input/train.csv')\n",
    "test = pd.read_csv('../input/test.csv')\n",
    "#这是一个list，存储了除了前四列之外的所有列的名称。一共50个。因为这4列不应该是模型输入的数据。\n",
    "col = [c for c in train if c not in ['id', 'air_store_id', 'visit_date','visitors']]"
   ]
  },
  {
   "cell_type": "code",
   "execution_count": 115,
   "metadata": {},
   "outputs": [
    {
     "data": {
      "text/plain": [
       "['dow',\n",
       " 'year',\n",
       " 'month',\n",
       " 'day_of_week',\n",
       " 'holiday_flg',\n",
       " 'min_visitors',\n",
       " 'mean_visitors',\n",
       " 'median_visitors',\n",
       " 'max_visitors',\n",
       " 'count_observations',\n",
       " 'air_genre_name',\n",
       " 'air_area_name',\n",
       " 'latitude',\n",
       " 'longitude',\n",
       " 'air_genre_name0',\n",
       " 'air_area_name0',\n",
       " 'air_genre_name1',\n",
       " 'air_area_name1',\n",
       " 'air_genre_name2',\n",
       " 'air_area_name2',\n",
       " 'air_genre_name3',\n",
       " 'air_area_name3',\n",
       " 'air_genre_name4',\n",
       " 'air_area_name4',\n",
       " 'air_genre_name5',\n",
       " 'air_area_name5',\n",
       " 'air_genre_name6',\n",
       " 'air_area_name6',\n",
       " 'air_genre_name7',\n",
       " 'air_area_name7',\n",
       " 'air_genre_name8',\n",
       " 'air_area_name8',\n",
       " 'air_genre_name9',\n",
       " 'air_area_name9',\n",
       " 'rs1_x',\n",
       " 'rv1_x',\n",
       " 'rs2_x',\n",
       " 'rv2_x',\n",
       " 'rs1_y',\n",
       " 'rv1_y',\n",
       " 'rs2_y',\n",
       " 'rv2_y',\n",
       " 'total_reserv_sum',\n",
       " 'total_reserv_mean',\n",
       " 'total_reserv_dt_diff_mean',\n",
       " 'date_int',\n",
       " 'var_max_lat',\n",
       " 'var_max_long',\n",
       " 'lon_plus_lat',\n",
       " 'air_store_id2']"
      ]
     },
     "execution_count": 115,
     "metadata": {},
     "output_type": "execute_result"
    }
   ],
   "source": [
    "#这是一个list，存储了除了前四列之外的所有列的名称。一共50个。因此这4列不应该是模型输入的数据。\n",
    "col"
   ]
  },
  {
   "cell_type": "code",
   "execution_count": 116,
   "metadata": {},
   "outputs": [
    {
     "data": {
      "text/plain": [
       "Text(0,0.5,'Frequency')"
      ]
     },
     "execution_count": 116,
     "metadata": {},
     "output_type": "execute_result"
    },
    {
     "data": {
      "image/png": "[encoded data removed]",
      "text/plain": [
       "<matplotlib.figure.Figure at 0x1a15ce4f60>"
      ]
     },
     "metadata": {},
     "output_type": "display_data"
    }
   ],
   "source": [
    "#我们来看看visitor的分布\n",
    "#显然visitor具有长尾特征。使用log(1 + x)变换比较合适\n",
    "plt.hist(train['visitors'].values)\n",
    "plt.title(\"原始\")\n",
    "plt.xlabel(\"Value\")\n",
    "plt.ylabel(\"Frequency\")"
   ]
  },
  {
   "cell_type": "code",
   "execution_count": 117,
   "metadata": {},
   "outputs": [
    {
     "data": {
      "text/plain": [
       "Text(0,0.5,'Frequency')"
      ]
     },
     "execution_count": 117,
     "metadata": {},
     "output_type": "execute_result"
    },
    {
     "data": {
      "image/png": "[encoded data removed]",
      "text/plain": [
       "<matplotlib.figure.Figure at 0x1a196177b8>"
      ]
     },
     "metadata": {},
     "output_type": "display_data"
    }
   ],
   "source": [
    "#再看看log1p操作后visitor的分布\n",
    "plt.hist(np.log1p(train['visitors'].values))\n",
    "plt.title(\"log1p之后\")\n",
    "plt.xlabel(\"Value\")\n",
    "plt.ylabel(\"Frequency\")"
   ]
  },
  {
   "cell_type": "markdown",
   "metadata": {},
   "source": [
    "## 三、模型验证训练集，调参，计算MSE"
   ]
  },
  {
   "cell_type": "code",
   "execution_count": 118,
   "metadata": {},
   "outputs": [],
   "source": [
    "#RMSLE方法调用了sk-learn的计算均方误差的方法，返回这个结果的0.5次方。\n",
    "#MSE定位为各数据偏离真实值的距离平方和的平均数\n",
    "#传入的参数：y是真实值，pred是估计值\n",
    "#官方的衡量标准是https://www.kaggle.com/c/recruit-restaurant-visitor-forecasting#evaluation\n",
    "#与官方的标准是吻合的\n",
    "def RMSLE(y, pred):\n",
    "    return metrics.mean_squared_error(y, pred)**0.5 "
   ]
  },
  {
   "cell_type": "markdown",
   "metadata": {},
   "source": [
    "### 1. neighbors = 9    并用了3，4，9，12，15进行验证"
   ]
  },
  {
   "cell_type": "code",
   "execution_count": 119,
   "metadata": {},
   "outputs": [
    {
     "name": "stdout",
     "output_type": "stream",
     "text": [
      "RMSE:  0.651317705859885\n"
     ]
    }
   ],
   "source": [
    "model = neighbors.KNeighborsRegressor(n_jobs=-1, n_neighbors=9)\n",
    "model.fit(train[col], np.log1p(train['visitors'].values))\n",
    "preds = model.predict(train1[col])\n",
    "print('RMSE: ', RMSLE(np.log1p(train1['visitors'].values), preds))"
   ]
  },
  {
   "cell_type": "markdown",
   "metadata": {},
   "source": [
    "## 四、预测测试集"
   ]
  },
  {
   "cell_type": "code",
   "execution_count": 120,
   "metadata": {},
   "outputs": [],
   "source": [
    "model = neighbors.KNeighborsRegressor(n_jobs=-1, n_neighbors=9)\n",
    "model.fit(trainAll[col], np.log1p(trainAll['visitors'].values))\n",
    "\n",
    "#给test表中的visitors列赋值 为模型预测的结果\n",
    "test['visitors'] = model.predict(test[col])\n",
    "#不过这个值还需要用expm函数把log1p的数变回去\n",
    "test['visitors'] = np.expm1(test['visitors']).clip(lower=0.)\n",
    "#sub就是test只留下id和visitors列\n",
    "sub = test[['id','visitors']].copy()\n",
    "#把sub写入csv文件\n",
    "#这一步运行完，可以在当前目录看到结果生成\n",
    "sub[['id', 'visitors']].to_csv('submission.csv', index=False)"
   ]
  }
 ],
 "metadata": {
  "kernelspec": {
   "display_name": "Python 3",
   "language": "python",
   "name": "python3"
  },
  "language_info": {
   "codemirror_mode": {
    "name": "ipython",
    "version": 3
   },
   "file_extension": ".py",
   "mimetype": "text/x-python",
   "name": "python",
   "nbconvert_exporter": "python",
   "pygments_lexer": "ipython3",
   "version": "3.6.4"
  }
 },
 "nbformat": 4,
 "nbformat_minor": 2
}
